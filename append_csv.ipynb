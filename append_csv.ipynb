{
 "cells": [
  {
   "cell_type": "markdown",
   "metadata": {},
   "source": [
    "# __APPEND CSV__\n",
    "<HR>\n",
    "<HR>"
   ]
  },
  {
   "cell_type": "markdown",
   "metadata": {},
   "source": [
    "#### Fieldnames = Columns name\n",
    "#### csv.writer =\n",
    "#### csv.DictWriter = "
   ]
  },
  {
   "cell_type": "code",
   "execution_count": null,
   "metadata": {},
   "outputs": [],
   "source": [
    "import csv"
   ]
  },
  {
   "cell_type": "code",
   "execution_count": 1,
   "metadata": {},
   "outputs": [],
   "source": [
    "# with open('1.csv', 'a', newline='') as mycsv:\n",
    "#     writer = csv.writer(mycsv, delimiter = ';')\n",
    "#     writer.writerow([14, 'Rudi'])\n",
    "#     writer.writerows([[24, 'Adi'], [25, 'Terry']])"
   ]
  },
  {
   "cell_type": "code",
   "execution_count": null,
   "metadata": {},
   "outputs": [],
   "source": [
    "# with open('1.csv', 'a', newline='') as mycsv:\n",
    "#     writer= csv.DictWriter(\n",
    "#         mycsv, delimiter = \";\", fieldnames=['no', 'nama'])\n",
    "#     # writer.writerow({'no': 30, 'nama': 'Dedi'})\n",
    "#     writer.writerows([\n",
    "#         {'no': 30, 'nama': 'Dedi'},\n",
    "#         {'no': 31, 'nama': 'Marcelia'},\n",
    "#         {'no': 32, 'nama': 'Kezia'},\n",
    "#     ])"
   ]
  }
 ],
 "metadata": {
  "kernelspec": {
   "display_name": "Python 3",
   "language": "python",
   "name": "python3"
  },
  "language_info": {
   "codemirror_mode": {
    "name": "ipython",
    "version": 3
   },
   "file_extension": ".py",
   "mimetype": "text/x-python",
   "name": "python",
   "nbconvert_exporter": "python",
   "pygments_lexer": "ipython3",
   "version": "3.8.1"
  }
 },
 "nbformat": 4,
 "nbformat_minor": 4
}
